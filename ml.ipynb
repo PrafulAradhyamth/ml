{
 "cells": [
  {
   "cell_type": "code",
   "execution_count": 2,
   "metadata": {},
   "outputs": [],
   "source": [
    "import numpy as np"
   ]
  },
  {
   "cell_type": "code",
   "execution_count": 3,
   "metadata": {},
   "outputs": [],
   "source": [
    "# State variables [x, y, vx, vy]\n",
    "x = np.array([0, 0, 0, 0], dtype=float)\n",
    "\n",
    "# Covariance matrix\n",
    "P = np.eye(4)  # Identity matrix\n"
   ]
  },
  {
   "cell_type": "code",
   "execution_count": 4,
   "metadata": {},
   "outputs": [],
   "source": [
    "# System dynamics matrix\n",
    "dt = 1.0  # Time step\n",
    "A = np.array([[1, 0, dt, 0],\n",
    "              [0, 1, 0, dt],\n",
    "              [0, 0, 1, 0],\n",
    "              [0, 0, 0, 1]], dtype=float)\n"
   ]
  },
  {
   "cell_type": "code",
   "execution_count": 1,
   "metadata": {},
   "outputs": [],
   "source": [
    "def kalman_filter(z):\n",
    "    # Prediction step\n",
    "    x = np.dot(A, x)\n",
    "    P = np.dot(np.dot(A, P), A.T) + Q\n",
    "\n",
    "    # Update step\n",
    "    y = z - np.dot(H, x)\n",
    "    S = np.dot(np.dot(H, P), H.T) + R\n",
    "    K = np.dot(np.dot(P, H.T), np.linalg.inv(S))\n",
    "    x = x + np.dot(K, y)\n",
    "    P = np.dot((np.eye(4) - np.dot(K, H)), P)\n",
    "\n",
    "    return x\n"
   ]
  },
  {
   "cell_type": "code",
   "execution_count": 2,
   "metadata": {},
   "outputs": [
    {
     "ename": "NameError",
     "evalue": "name 'np' is not defined",
     "output_type": "error",
     "traceback": [
      "\u001b[1;31m---------------------------------------------------------------------------\u001b[0m",
      "\u001b[1;31mNameError\u001b[0m                                 Traceback (most recent call last)",
      "Cell \u001b[1;32mIn[2], line 1\u001b[0m\n\u001b[1;32m----> 1\u001b[0m measurements \u001b[39m=\u001b[39m np\u001b[39m.\u001b[39marray([[\u001b[39m1\u001b[39m, \u001b[39m0\u001b[39m], [\u001b[39m0\u001b[39m, \u001b[39m1\u001b[39m], [\u001b[39m2\u001b[39m, \u001b[39m1\u001b[39m]], dtype\u001b[39m=\u001b[39m\u001b[39mfloat\u001b[39m)  \u001b[39m# Example measurements\u001b[39;00m\n\u001b[0;32m      3\u001b[0m \u001b[39mfor\u001b[39;00m z \u001b[39min\u001b[39;00m measurements:\n\u001b[0;32m      4\u001b[0m     x \u001b[39m=\u001b[39m kalman_filter(z)\n",
      "\u001b[1;31mNameError\u001b[0m: name 'np' is not defined"
     ]
    }
   ],
   "source": [
    "measurements = np.array([[1, 0], [0, 1], [2, 1]], dtype=float)  # Example measurements\n",
    "\n",
    "for z in measurements:\n",
    "    x = kalman_filter(z)\n",
    "    print(f\"Predicted position: ({x[0]}, {x[1]})\")\n"
   ]
  },
  {
   "cell_type": "code",
   "execution_count": null,
   "metadata": {},
   "outputs": [],
   "source": []
  }
 ],
 "metadata": {
  "kernelspec": {
   "display_name": "Python 3",
   "language": "python",
   "name": "python3"
  },
  "language_info": {
   "codemirror_mode": {
    "name": "ipython",
    "version": 3
   },
   "file_extension": ".py",
   "mimetype": "text/x-python",
   "name": "python",
   "nbconvert_exporter": "python",
   "pygments_lexer": "ipython3",
   "version": "3.11.4"
  },
  "orig_nbformat": 4
 },
 "nbformat": 4,
 "nbformat_minor": 2
}
